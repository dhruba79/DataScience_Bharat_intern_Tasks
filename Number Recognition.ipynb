{
 "cells": [
  {
   "cell_type": "code",
   "execution_count": 2,
   "id": "0f0478dd",
   "metadata": {},
   "outputs": [],
   "source": [
    "import keras\n",
    "from keras.datasets import mnist\n",
    "from keras.models import Sequential\n",
    "from keras.layers import Dense, Dropout, Flatten\n",
    "from keras.layers import Conv2D, MaxPooling2D\n",
    "from keras import backend as K"
   ]
  },
  {
   "cell_type": "code",
   "execution_count": 3,
   "id": "6a797879",
   "metadata": {},
   "outputs": [],
   "source": [
    "(x_train, y_train), (x_test, y_test) = mnist.load_data()\n"
   ]
  },
  {
   "cell_type": "code",
   "execution_count": 4,
   "id": "af5d8f28",
   "metadata": {},
   "outputs": [],
   "source": [
    "num_of_trainImgs = x_train.shape[0] #60000 here\n",
    "num_of_testImgs = x_test.shape[0] #10000 here\n",
    "img_width = 28\n",
    "img_height = 28\n",
    " \n",
    "x_train = x_train.reshape(x_train.shape[0], img_height, img_width, 1)\n",
    "x_test = x_test.reshape(x_test.shape[0], img_height, img_width, 1)\n",
    "input_shape = (img_height, img_width, 1)\n",
    " \n",
    "x_train = x_train.astype('float32')\n",
    "x_test = x_test.astype('float32')\n",
    "x_train /= 255\n",
    "x_test /= 255"
   ]
  },
  {
   "cell_type": "code",
   "execution_count": 5,
   "id": "aea8b78d",
   "metadata": {},
   "outputs": [],
   "source": [
    "num_classes = 10\n",
    "y_train = keras.utils.to_categorical(y_train, num_classes)\n",
    "y_test = keras.utils.to_categorical(y_test, num_classes)"
   ]
  },
  {
   "cell_type": "code",
   "execution_count": 6,
   "id": "4ada8e0c",
   "metadata": {},
   "outputs": [],
   "source": [
    "model = Sequential()\n",
    "model.add(Conv2D(32, kernel_size=(3, 3),\n",
    "                 activation='relu',\n",
    "                 input_shape=input_shape))\n",
    "model.add(Conv2D(64, (3, 3), activation='relu'))\n",
    "model.add(MaxPooling2D(pool_size=(2, 2)))\n",
    "model.add(Dropout(0.25))\n",
    "model.add(Flatten())\n",
    "model.add(Dense(128, activation='relu'))\n",
    "model.add(Dropout(0.5))\n",
    "model.add(Dense(num_classes, activation='softmax'))"
   ]
  },
  {
   "cell_type": "code",
   "execution_count": 7,
   "id": "702f569f",
   "metadata": {},
   "outputs": [],
   "source": [
    "model.compile(loss=keras.losses.categorical_crossentropy,\n",
    "              optimizer=keras.optimizers.Adadelta(),\n",
    "              metrics=['accuracy'])"
   ]
  },
  {
   "cell_type": "code",
   "execution_count": 8,
   "id": "fed7d3f2",
   "metadata": {},
   "outputs": [
    {
     "name": "stdout",
     "output_type": "stream",
     "text": [
      "Epoch 1/20\n",
      "469/469 [==============================] - 95s 199ms/step - loss: 2.2626 - accuracy: 0.1504 - val_loss: 2.2013 - val_accuracy: 0.3323\n",
      "Epoch 2/20\n",
      "469/469 [==============================] - 108s 231ms/step - loss: 2.1645 - accuracy: 0.2941 - val_loss: 2.0790 - val_accuracy: 0.5578\n",
      "Epoch 3/20\n",
      "469/469 [==============================] - 99s 212ms/step - loss: 2.0418 - accuracy: 0.4186 - val_loss: 1.9222 - val_accuracy: 0.6568\n",
      "Epoch 4/20\n",
      "469/469 [==============================] - 107s 229ms/step - loss: 1.8852 - accuracy: 0.5065 - val_loss: 1.7277 - val_accuracy: 0.7417\n",
      "Epoch 5/20\n",
      "469/469 [==============================] - 102s 217ms/step - loss: 1.7094 - accuracy: 0.5640 - val_loss: 1.5116 - val_accuracy: 0.7779\n",
      "Epoch 6/20\n",
      "469/469 [==============================] - 100s 214ms/step - loss: 1.5231 - accuracy: 0.6097 - val_loss: 1.2975 - val_accuracy: 0.7954\n",
      "Epoch 7/20\n",
      "469/469 [==============================] - 103s 220ms/step - loss: 1.3525 - accuracy: 0.6429 - val_loss: 1.1107 - val_accuracy: 0.8074\n",
      "Epoch 8/20\n",
      "469/469 [==============================] - 101s 216ms/step - loss: 1.2152 - accuracy: 0.6652 - val_loss: 0.9623 - val_accuracy: 0.8198\n",
      "Epoch 9/20\n",
      "469/469 [==============================] - 94s 200ms/step - loss: 1.1001 - accuracy: 0.6890 - val_loss: 0.8477 - val_accuracy: 0.8323\n",
      "Epoch 10/20\n",
      "469/469 [==============================] - 97s 206ms/step - loss: 1.0162 - accuracy: 0.7050 - val_loss: 0.7611 - val_accuracy: 0.8406\n",
      "Epoch 11/20\n",
      "469/469 [==============================] - 95s 203ms/step - loss: 0.9409 - accuracy: 0.7229 - val_loss: 0.6922 - val_accuracy: 0.8483\n",
      "Epoch 12/20\n",
      "469/469 [==============================] - 98s 210ms/step - loss: 0.8882 - accuracy: 0.7377 - val_loss: 0.6385 - val_accuracy: 0.8534\n",
      "Epoch 13/20\n",
      "469/469 [==============================] - 96s 204ms/step - loss: 0.8431 - accuracy: 0.7463 - val_loss: 0.5957 - val_accuracy: 0.8585\n",
      "Epoch 14/20\n",
      "469/469 [==============================] - 101s 216ms/step - loss: 0.7962 - accuracy: 0.7602 - val_loss: 0.5600 - val_accuracy: 0.8642\n",
      "Epoch 15/20\n",
      "469/469 [==============================] - 97s 207ms/step - loss: 0.7647 - accuracy: 0.7679 - val_loss: 0.5304 - val_accuracy: 0.8694\n",
      "Epoch 16/20\n",
      "469/469 [==============================] - 96s 205ms/step - loss: 0.7356 - accuracy: 0.7774 - val_loss: 0.5062 - val_accuracy: 0.8747\n",
      "Epoch 17/20\n",
      "469/469 [==============================] - 95s 203ms/step - loss: 0.7108 - accuracy: 0.7864 - val_loss: 0.4849 - val_accuracy: 0.8789\n",
      "Epoch 18/20\n",
      "469/469 [==============================] - 93s 198ms/step - loss: 0.6872 - accuracy: 0.7929 - val_loss: 0.4669 - val_accuracy: 0.8815\n",
      "Epoch 19/20\n",
      "469/469 [==============================] - 94s 200ms/step - loss: 0.6659 - accuracy: 0.7977 - val_loss: 0.4499 - val_accuracy: 0.8852\n",
      "Epoch 20/20\n",
      "469/469 [==============================] - 92s 197ms/step - loss: 0.6497 - accuracy: 0.8025 - val_loss: 0.4366 - val_accuracy: 0.8878\n"
     ]
    },
    {
     "data": {
      "text/plain": [
       "<keras.callbacks.History at 0x1b6da505d90>"
      ]
     },
     "execution_count": 8,
     "metadata": {},
     "output_type": "execute_result"
    }
   ],
   "source": [
    "model.fit(x_train, y_train,\n",
    "          batch_size=128,\n",
    "          epochs=20,\n",
    "          verbose=1,\n",
    "          validation_data=(x_test, y_test))"
   ]
  },
  {
   "cell_type": "code",
   "execution_count": 9,
   "id": "3ff22c12",
   "metadata": {},
   "outputs": [
    {
     "name": "stdout",
     "output_type": "stream",
     "text": [
      "Test loss: 0.4366051256656647\n",
      "Test accuracy: 0.8877999782562256\n"
     ]
    }
   ],
   "source": [
    "score = model.evaluate(x_test, y_test, verbose=0)\n",
    "print('Test loss:', score[0])\n",
    "print('Test accuracy:', score[1])"
   ]
  },
  {
   "cell_type": "code",
   "execution_count": 10,
   "id": "8eb38675",
   "metadata": {},
   "outputs": [],
   "source": [
    "model.save('trained_model.h5')"
   ]
  }
 ],
 "metadata": {
  "kernelspec": {
   "display_name": "Python 3 (ipykernel)",
   "language": "python",
   "name": "python3"
  },
  "language_info": {
   "codemirror_mode": {
    "name": "ipython",
    "version": 3
   },
   "file_extension": ".py",
   "mimetype": "text/x-python",
   "name": "python",
   "nbconvert_exporter": "python",
   "pygments_lexer": "ipython3",
   "version": "3.9.12"
  }
 },
 "nbformat": 4,
 "nbformat_minor": 5
}
